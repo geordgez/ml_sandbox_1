{
 "cells": [
  {
   "cell_type": "markdown",
   "metadata": {},
   "source": [
    "From Jason Brownlee's email tutorials for keras and theano--link to material [here](http://machinelearningmastery.com/category/deep-learning/)"
   ]
  },
  {
   "cell_type": "markdown",
   "metadata": {},
   "source": [
    "### Lesson 01"
   ]
  },
  {
   "cell_type": "code",
   "execution_count": 1,
   "metadata": {
    "collapsed": true
   },
   "outputs": [],
   "source": [
    "import theano\n",
    "from theano import tensor"
   ]
  },
  {
   "cell_type": "markdown",
   "metadata": {},
   "source": [
    "Declare two symbolic floating-point scalars"
   ]
  },
  {
   "cell_type": "code",
   "execution_count": 2,
   "metadata": {
    "collapsed": true
   },
   "outputs": [],
   "source": [
    "a = tensor.dscalar()\n",
    "b = tensor.dscalar()"
   ]
  },
  {
   "cell_type": "markdown",
   "metadata": {},
   "source": [
    "Create a simple expression"
   ]
  },
  {
   "cell_type": "code",
   "execution_count": 3,
   "metadata": {
    "collapsed": false
   },
   "outputs": [],
   "source": [
    "c = a + b"
   ]
  },
  {
   "cell_type": "markdown",
   "metadata": {},
   "source": [
    "Convert the expression into a callable object that takes (a,b) values as input and computes a value for c."
   ]
  },
  {
   "cell_type": "code",
   "execution_count": 4,
   "metadata": {
    "collapsed": true
   },
   "outputs": [],
   "source": [
    "f = theano.function([a,b],c)"
   ]
  },
  {
   "cell_type": "markdown",
   "metadata": {},
   "source": [
    "Bind 1.5 to $a$, 2.5 to $b$, and evaluate $c$"
   ]
  },
  {
   "cell_type": "code",
   "execution_count": 5,
   "metadata": {
    "collapsed": false
   },
   "outputs": [
    {
     "data": {
      "text/plain": [
       "array(4.0)"
      ]
     },
     "execution_count": 5,
     "metadata": {},
     "output_type": "execute_result"
    }
   ],
   "source": [
    "f(1.5,2.5)"
   ]
  },
  {
   "cell_type": "markdown",
   "metadata": {},
   "source": [
    "### Lesson 02"
   ]
  },
  {
   "cell_type": "code",
   "execution_count": 6,
   "metadata": {
    "collapsed": false
   },
   "outputs": [],
   "source": [
    "import tensorflow as tf"
   ]
  },
  {
   "cell_type": "markdown",
   "metadata": {},
   "source": [
    "Declare two symbolic floating-point scalars"
   ]
  },
  {
   "cell_type": "code",
   "execution_count": 7,
   "metadata": {
    "collapsed": true
   },
   "outputs": [],
   "source": [
    "a = tf.placeholder(tf.float32)\n",
    "b = tf.placeholder(tf.float32)"
   ]
  },
  {
   "cell_type": "markdown",
   "metadata": {},
   "source": [
    "Create a simple symbolic expression using the add function"
   ]
  },
  {
   "cell_type": "code",
   "execution_count": 8,
   "metadata": {
    "collapsed": true
   },
   "outputs": [],
   "source": [
    "add = tf.add(a,b)"
   ]
  },
  {
   "cell_type": "markdown",
   "metadata": {},
   "source": [
    "Bind 1.5 to $a$, 2.5 to $b$, and evaluate $c$"
   ]
  },
  {
   "cell_type": "code",
   "execution_count": 9,
   "metadata": {
    "collapsed": true
   },
   "outputs": [],
   "source": [
    "sess = tf.Session()\n",
    "binding = {a: 1.5, b: 2.5}\n",
    "c = sess.run(add, feed_dict=binding)"
   ]
  },
  {
   "cell_type": "code",
   "execution_count": 10,
   "metadata": {
    "collapsed": false
   },
   "outputs": [
    {
     "name": "stdout",
     "output_type": "stream",
     "text": [
      "4.0\n"
     ]
    }
   ],
   "source": [
    "print c"
   ]
  },
  {
   "cell_type": "markdown",
   "metadata": {},
   "source": [
    "### Lesson 03"
   ]
  },
  {
   "cell_type": "markdown",
   "metadata": {},
   "source": [
    "Install keras"
   ]
  },
  {
   "cell_type": "markdown",
   "metadata": {},
   "source": [
    "### Lesson 04"
   ]
  },
  {
   "cell_type": "markdown",
   "metadata": {},
   "source": [
    "Perceptron terminology"
   ]
  },
  {
   "cell_type": "markdown",
   "metadata": {},
   "source": [
    "### Lesson 05"
   ]
  },
  {
   "cell_type": "markdown",
   "metadata": {},
   "source": [
    "Create first network with Keras"
   ]
  },
  {
   "cell_type": "code",
   "execution_count": 11,
   "metadata": {
    "collapsed": false
   },
   "outputs": [
    {
     "name": "stderr",
     "output_type": "stream",
     "text": [
      "Using TensorFlow backend.\n"
     ]
    }
   ],
   "source": [
    "from keras.models import Sequential\n",
    "from keras.layers import Dense\n",
    "import numpy"
   ]
  },
  {
   "cell_type": "markdown",
   "metadata": {},
   "source": [
    "Fix random seed for reproducibility"
   ]
  },
  {
   "cell_type": "code",
   "execution_count": 12,
   "metadata": {
    "collapsed": true
   },
   "outputs": [],
   "source": [
    "seed = 7\n",
    "numpy.random.seed(seed)"
   ]
  },
  {
   "cell_type": "markdown",
   "metadata": {},
   "source": [
    "Load pima indians dataset"
   ]
  },
  {
   "cell_type": "code",
   "execution_count": 13,
   "metadata": {
    "collapsed": false
   },
   "outputs": [],
   "source": [
    "dataset = numpy.loadtxt(\"../data/pima-indians-diabetes.csv\", delimiter=\",\")"
   ]
  },
  {
   "cell_type": "markdown",
   "metadata": {},
   "source": [
    "Split into input $X$ and output $Y$ variables"
   ]
  },
  {
   "cell_type": "code",
   "execution_count": 14,
   "metadata": {
    "collapsed": true
   },
   "outputs": [],
   "source": [
    "X = dataset[:,0:8]\n",
    "Y = dataset[:,8]"
   ]
  },
  {
   "cell_type": "markdown",
   "metadata": {},
   "source": [
    "Create model"
   ]
  },
  {
   "cell_type": "code",
   "execution_count": 15,
   "metadata": {
    "collapsed": true
   },
   "outputs": [],
   "source": [
    "model = Sequential()\n",
    "model.add(Dense(12, input_dim=8, init='uniform', activation='relu'))\n",
    "model.add(Dense(8, init='uniform', activation='relu'))\n",
    "model.add(Dense(8, init='uniform', activation='relu'))\n",
    "model.add(Dense(8, init='uniform', activation='relu'))\n",
    "model.add(Dense(1, init='uniform', activation='sigmoid'))"
   ]
  },
  {
   "cell_type": "markdown",
   "metadata": {},
   "source": [
    "Compile model"
   ]
  },
  {
   "cell_type": "code",
   "execution_count": 16,
   "metadata": {
    "collapsed": true
   },
   "outputs": [],
   "source": [
    "model.compile(loss='binary_crossentropy', optimizer='adam', metrics=['accuracy'])"
   ]
  },
  {
   "cell_type": "markdown",
   "metadata": {},
   "source": [
    "Fit the model"
   ]
  },
  {
   "cell_type": "code",
   "execution_count": 17,
   "metadata": {
    "collapsed": false,
    "scrolled": true
   },
   "outputs": [
    {
     "name": "stdout",
     "output_type": "stream",
     "text": [
      "Epoch 1/150\n",
      "768/768 [==============================] - 0s - loss: 0.6920 - acc: 0.6510     \n",
      "Epoch 2/150\n",
      "768/768 [==============================] - 0s - loss: 0.6886 - acc: 0.6510     \n",
      "Epoch 3/150\n",
      "768/768 [==============================] - 0s - loss: 0.6827 - acc: 0.6510     \n",
      "Epoch 4/150\n",
      "768/768 [==============================] - 0s - loss: 0.6728 - acc: 0.6510     \n",
      "Epoch 5/150\n",
      "768/768 [==============================] - 0s - loss: 0.6644 - acc: 0.6510     \n",
      "Epoch 6/150\n",
      "768/768 [==============================] - 0s - loss: 0.6617 - acc: 0.6510     \n",
      "Epoch 7/150\n",
      "768/768 [==============================] - 0s - loss: 0.6582 - acc: 0.6510     \n",
      "Epoch 8/150\n",
      "768/768 [==============================] - 0s - loss: 0.6524 - acc: 0.6510     \n",
      "Epoch 9/150\n",
      "768/768 [==============================] - 0s - loss: 0.6481 - acc: 0.6510     \n",
      "Epoch 10/150\n",
      "768/768 [==============================] - 0s - loss: 0.6423 - acc: 0.6510     \n",
      "Epoch 11/150\n",
      "768/768 [==============================] - 0s - loss: 0.6384 - acc: 0.6510     \n",
      "Epoch 12/150\n",
      "768/768 [==============================] - 0s - loss: 0.6320 - acc: 0.6510     \n",
      "Epoch 13/150\n",
      "768/768 [==============================] - 0s - loss: 0.6246 - acc: 0.6510     \n",
      "Epoch 14/150\n",
      "768/768 [==============================] - 0s - loss: 0.6192 - acc: 0.6510     \n",
      "Epoch 15/150\n",
      "768/768 [==============================] - 0s - loss: 0.6131 - acc: 0.6510     \n",
      "Epoch 16/150\n",
      "768/768 [==============================] - 0s - loss: 0.6077 - acc: 0.6510     \n",
      "Epoch 17/150\n",
      "768/768 [==============================] - 0s - loss: 0.6035 - acc: 0.6510     \n",
      "Epoch 18/150\n",
      "768/768 [==============================] - 0s - loss: 0.6011 - acc: 0.6510     \n",
      "Epoch 19/150\n",
      "768/768 [==============================] - 0s - loss: 0.6011 - acc: 0.6510     \n",
      "Epoch 20/150\n",
      "768/768 [==============================] - 0s - loss: 0.6017 - acc: 0.6510     \n",
      "Epoch 21/150\n",
      "768/768 [==============================] - 0s - loss: 0.5969 - acc: 0.6510     \n",
      "Epoch 22/150\n",
      "768/768 [==============================] - 0s - loss: 0.5951 - acc: 0.6510     \n",
      "Epoch 23/150\n",
      "768/768 [==============================] - 0s - loss: 0.5965 - acc: 0.6510     \n",
      "Epoch 24/150\n",
      "768/768 [==============================] - 0s - loss: 0.5936 - acc: 0.6510     \n",
      "Epoch 25/150\n",
      "768/768 [==============================] - 0s - loss: 0.5924 - acc: 0.6510     \n",
      "Epoch 26/150\n",
      "768/768 [==============================] - 0s - loss: 0.5908 - acc: 0.6510     \n",
      "Epoch 27/150\n",
      "768/768 [==============================] - 0s - loss: 0.5930 - acc: 0.6510     \n",
      "Epoch 28/150\n",
      "768/768 [==============================] - 0s - loss: 0.6005 - acc: 0.6510     \n",
      "Epoch 29/150\n",
      "768/768 [==============================] - 0s - loss: 0.5971 - acc: 0.6510     \n",
      "Epoch 30/150\n",
      "768/768 [==============================] - 0s - loss: 0.5897 - acc: 0.6510     \n",
      "Epoch 31/150\n",
      "768/768 [==============================] - 0s - loss: 0.5936 - acc: 0.6510     \n",
      "Epoch 32/150\n",
      "768/768 [==============================] - 0s - loss: 0.5883 - acc: 0.6510     \n",
      "Epoch 33/150\n",
      "768/768 [==============================] - 0s - loss: 0.5862 - acc: 0.6510     \n",
      "Epoch 34/150\n",
      "768/768 [==============================] - 0s - loss: 0.5859 - acc: 0.6510     \n",
      "Epoch 35/150\n",
      "768/768 [==============================] - 0s - loss: 0.5845 - acc: 0.6510     \n",
      "Epoch 36/150\n",
      "768/768 [==============================] - 0s - loss: 0.5851 - acc: 0.6510     \n",
      "Epoch 37/150\n",
      "768/768 [==============================] - 0s - loss: 0.5853 - acc: 0.6510     \n",
      "Epoch 38/150\n",
      "768/768 [==============================] - 0s - loss: 0.5892 - acc: 0.6510     \n",
      "Epoch 39/150\n",
      "768/768 [==============================] - 0s - loss: 0.5846 - acc: 0.6510     \n",
      "Epoch 40/150\n",
      "768/768 [==============================] - 0s - loss: 0.5823 - acc: 0.6510     \n",
      "Epoch 41/150\n",
      "768/768 [==============================] - 0s - loss: 0.5807 - acc: 0.6510     \n",
      "Epoch 42/150\n",
      "768/768 [==============================] - 0s - loss: 0.5788 - acc: 0.6510     \n",
      "Epoch 43/150\n",
      "768/768 [==============================] - 0s - loss: 0.5834 - acc: 0.6510     \n",
      "Epoch 44/150\n",
      "768/768 [==============================] - 0s - loss: 0.5816 - acc: 0.6510     \n",
      "Epoch 45/150\n",
      "768/768 [==============================] - 0s - loss: 0.5840 - acc: 0.6510     \n",
      "Epoch 46/150\n",
      "768/768 [==============================] - 0s - loss: 0.5772 - acc: 0.6510     \n",
      "Epoch 47/150\n",
      "768/768 [==============================] - 0s - loss: 0.5780 - acc: 0.6510     \n",
      "Epoch 48/150\n",
      "768/768 [==============================] - 0s - loss: 0.5760 - acc: 0.6510     \n",
      "Epoch 49/150\n",
      "768/768 [==============================] - 0s - loss: 0.5758 - acc: 0.6510     \n",
      "Epoch 50/150\n",
      "768/768 [==============================] - 0s - loss: 0.5745 - acc: 0.6510     \n",
      "Epoch 51/150\n",
      "768/768 [==============================] - 0s - loss: 0.5748 - acc: 0.6510     \n",
      "Epoch 52/150\n",
      "768/768 [==============================] - 0s - loss: 0.5728 - acc: 0.6510     \n",
      "Epoch 53/150\n",
      "768/768 [==============================] - 0s - loss: 0.5763 - acc: 0.6510     \n",
      "Epoch 54/150\n",
      "768/768 [==============================] - 0s - loss: 0.5746 - acc: 0.6510     \n",
      "Epoch 55/150\n",
      "768/768 [==============================] - 0s - loss: 0.5724 - acc: 0.6510     \n",
      "Epoch 56/150\n",
      "768/768 [==============================] - 0s - loss: 0.5723 - acc: 0.6510     \n",
      "Epoch 57/150\n",
      "768/768 [==============================] - 0s - loss: 0.5712 - acc: 0.6510     \n",
      "Epoch 58/150\n",
      "768/768 [==============================] - 0s - loss: 0.5718 - acc: 0.6510     \n",
      "Epoch 59/150\n",
      "768/768 [==============================] - 0s - loss: 0.5688 - acc: 0.6510     \n",
      "Epoch 60/150\n",
      "768/768 [==============================] - 0s - loss: 0.5704 - acc: 0.6732     \n",
      "Epoch 61/150\n",
      "768/768 [==============================] - 0s - loss: 0.5691 - acc: 0.7161     \n",
      "Epoch 62/150\n",
      "768/768 [==============================] - 0s - loss: 0.5696 - acc: 0.7292     \n",
      "Epoch 63/150\n",
      "768/768 [==============================] - 0s - loss: 0.5666 - acc: 0.7161     \n",
      "Epoch 64/150\n",
      "768/768 [==============================] - 0s - loss: 0.5695 - acc: 0.7188     \n",
      "Epoch 65/150\n",
      "768/768 [==============================] - 0s - loss: 0.5644 - acc: 0.7240     \n",
      "Epoch 66/150\n",
      "768/768 [==============================] - 0s - loss: 0.5631 - acc: 0.7201     \n",
      "Epoch 67/150\n",
      "768/768 [==============================] - 0s - loss: 0.5628 - acc: 0.7370     \n",
      "Epoch 68/150\n",
      "768/768 [==============================] - 0s - loss: 0.5620 - acc: 0.7292     \n",
      "Epoch 69/150\n",
      "768/768 [==============================] - 0s - loss: 0.5612 - acc: 0.7253     \n",
      "Epoch 70/150\n",
      "768/768 [==============================] - 0s - loss: 0.5623 - acc: 0.7474     \n",
      "Epoch 71/150\n",
      "768/768 [==============================] - 0s - loss: 0.5609 - acc: 0.7266     \n",
      "Epoch 72/150\n",
      "768/768 [==============================] - 0s - loss: 0.5590 - acc: 0.7370     \n",
      "Epoch 73/150\n",
      "768/768 [==============================] - 0s - loss: 0.5616 - acc: 0.7201     \n",
      "Epoch 74/150\n",
      "768/768 [==============================] - 0s - loss: 0.5597 - acc: 0.7422     \n",
      "Epoch 75/150\n",
      "768/768 [==============================] - 0s - loss: 0.5559 - acc: 0.7448     \n",
      "Epoch 76/150\n",
      "768/768 [==============================] - 0s - loss: 0.5591 - acc: 0.7253     \n",
      "Epoch 77/150\n",
      "768/768 [==============================] - 0s - loss: 0.5544 - acc: 0.7370     \n",
      "Epoch 78/150\n",
      "768/768 [==============================] - 0s - loss: 0.5536 - acc: 0.7526     \n",
      "Epoch 79/150\n",
      "768/768 [==============================] - 0s - loss: 0.5558 - acc: 0.7500     \n",
      "Epoch 80/150\n",
      "768/768 [==============================] - 0s - loss: 0.5526 - acc: 0.7201     \n",
      "Epoch 81/150\n",
      "768/768 [==============================] - 0s - loss: 0.5528 - acc: 0.7409     \n",
      "Epoch 82/150\n",
      "768/768 [==============================] - 0s - loss: 0.5529 - acc: 0.7370     \n",
      "Epoch 83/150\n",
      "768/768 [==============================] - 0s - loss: 0.5481 - acc: 0.7409     \n",
      "Epoch 84/150\n",
      "768/768 [==============================] - 0s - loss: 0.5513 - acc: 0.7253     \n",
      "Epoch 85/150\n",
      "768/768 [==============================] - 0s - loss: 0.5519 - acc: 0.7422     \n",
      "Epoch 86/150\n",
      "768/768 [==============================] - 0s - loss: 0.5479 - acc: 0.7461     \n",
      "Epoch 87/150\n",
      "768/768 [==============================] - 0s - loss: 0.5443 - acc: 0.7500     \n",
      "Epoch 88/150\n",
      "768/768 [==============================] - 0s - loss: 0.5420 - acc: 0.7487     \n",
      "Epoch 89/150\n",
      "768/768 [==============================] - 0s - loss: 0.5426 - acc: 0.7487     \n",
      "Epoch 90/150\n",
      "768/768 [==============================] - 0s - loss: 0.5407 - acc: 0.7552     \n",
      "Epoch 91/150\n",
      "768/768 [==============================] - 0s - loss: 0.5397 - acc: 0.7435     \n",
      "Epoch 92/150\n",
      "768/768 [==============================] - 0s - loss: 0.5423 - acc: 0.7604     \n",
      "Epoch 93/150\n",
      "768/768 [==============================] - 0s - loss: 0.5396 - acc: 0.7552     \n",
      "Epoch 94/150\n",
      "768/768 [==============================] - 0s - loss: 0.5382 - acc: 0.7513     \n",
      "Epoch 95/150\n",
      "768/768 [==============================] - 0s - loss: 0.5388 - acc: 0.7500     \n",
      "Epoch 96/150\n",
      "768/768 [==============================] - 0s - loss: 0.5360 - acc: 0.7370     \n",
      "Epoch 97/150\n",
      "768/768 [==============================] - 0s - loss: 0.5344 - acc: 0.7461     \n",
      "Epoch 98/150\n",
      "768/768 [==============================] - 0s - loss: 0.5314 - acc: 0.7604     \n",
      "Epoch 99/150\n",
      "768/768 [==============================] - 0s - loss: 0.5291 - acc: 0.7526     \n",
      "Epoch 100/150\n",
      "768/768 [==============================] - 0s - loss: 0.5432 - acc: 0.7435     \n",
      "Epoch 101/150\n",
      "768/768 [==============================] - 0s - loss: 0.5311 - acc: 0.7565     \n",
      "Epoch 102/150\n",
      "768/768 [==============================] - 0s - loss: 0.5265 - acc: 0.7487     \n",
      "Epoch 103/150\n",
      "768/768 [==============================] - 0s - loss: 0.5252 - acc: 0.7474     \n",
      "Epoch 104/150\n",
      "768/768 [==============================] - 0s - loss: 0.5237 - acc: 0.7578     \n",
      "Epoch 105/150\n",
      "768/768 [==============================] - 0s - loss: 0.5220 - acc: 0.7604     \n",
      "Epoch 106/150\n",
      "768/768 [==============================] - 0s - loss: 0.5222 - acc: 0.7552     \n",
      "Epoch 107/150\n",
      "768/768 [==============================] - 0s - loss: 0.5274 - acc: 0.7539     \n",
      "Epoch 108/150\n",
      "768/768 [==============================] - 0s - loss: 0.5207 - acc: 0.7656     \n",
      "Epoch 109/150\n",
      "768/768 [==============================] - 0s - loss: 0.5199 - acc: 0.7474     \n",
      "Epoch 110/150\n",
      "768/768 [==============================] - 0s - loss: 0.5166 - acc: 0.7591     \n",
      "Epoch 111/150\n",
      "768/768 [==============================] - 0s - loss: 0.5166 - acc: 0.7591     \n",
      "Epoch 112/150\n",
      "768/768 [==============================] - 0s - loss: 0.5223 - acc: 0.7552     \n",
      "Epoch 113/150\n",
      "768/768 [==============================] - 0s - loss: 0.5288 - acc: 0.7461     \n",
      "Epoch 114/150\n",
      "768/768 [==============================] - 0s - loss: 0.5118 - acc: 0.7695     \n",
      "Epoch 115/150\n",
      "768/768 [==============================] - 0s - loss: 0.5106 - acc: 0.7617     \n",
      "Epoch 116/150\n",
      "768/768 [==============================] - 0s - loss: 0.5086 - acc: 0.7591     \n",
      "Epoch 117/150\n",
      "768/768 [==============================] - 0s - loss: 0.5132 - acc: 0.7578     \n",
      "Epoch 118/150\n",
      "768/768 [==============================] - 0s - loss: 0.5058 - acc: 0.7643     \n",
      "Epoch 119/150\n",
      "768/768 [==============================] - 0s - loss: 0.5076 - acc: 0.7656     \n",
      "Epoch 120/150\n",
      "768/768 [==============================] - 0s - loss: 0.5084 - acc: 0.7565     \n",
      "Epoch 121/150\n",
      "768/768 [==============================] - 0s - loss: 0.5105 - acc: 0.7656     \n",
      "Epoch 122/150\n",
      "768/768 [==============================] - 0s - loss: 0.5108 - acc: 0.7487     \n",
      "Epoch 123/150\n",
      "768/768 [==============================] - 0s - loss: 0.5087 - acc: 0.7565     \n",
      "Epoch 124/150\n",
      "768/768 [==============================] - 0s - loss: 0.4981 - acc: 0.7734     \n",
      "Epoch 125/150\n",
      "768/768 [==============================] - 0s - loss: 0.5009 - acc: 0.7630     \n",
      "Epoch 126/150\n",
      "768/768 [==============================] - 0s - loss: 0.4967 - acc: 0.7565     \n",
      "Epoch 127/150\n",
      "768/768 [==============================] - 0s - loss: 0.5046 - acc: 0.7630     \n",
      "Epoch 128/150\n",
      "768/768 [==============================] - 0s - loss: 0.4927 - acc: 0.7760     \n",
      "Epoch 129/150\n",
      "768/768 [==============================] - 0s - loss: 0.4904 - acc: 0.7812     \n",
      "Epoch 130/150\n",
      "768/768 [==============================] - 0s - loss: 0.4996 - acc: 0.7565     \n",
      "Epoch 131/150\n",
      "768/768 [==============================] - 0s - loss: 0.5067 - acc: 0.7630     \n",
      "Epoch 132/150\n",
      "768/768 [==============================] - 0s - loss: 0.4953 - acc: 0.7708     \n",
      "Epoch 133/150\n",
      "768/768 [==============================] - 0s - loss: 0.4901 - acc: 0.7708     \n",
      "Epoch 134/150\n",
      "768/768 [==============================] - 0s - loss: 0.4952 - acc: 0.7721     \n",
      "Epoch 135/150\n",
      "768/768 [==============================] - 0s - loss: 0.4899 - acc: 0.7695     \n",
      "Epoch 136/150\n",
      "768/768 [==============================] - 0s - loss: 0.4881 - acc: 0.7656     \n",
      "Epoch 137/150\n",
      "768/768 [==============================] - 0s - loss: 0.4924 - acc: 0.7773     \n",
      "Epoch 138/150\n",
      "768/768 [==============================] - 0s - loss: 0.4816 - acc: 0.7812     \n",
      "Epoch 139/150\n",
      "768/768 [==============================] - 0s - loss: 0.4885 - acc: 0.7617     \n",
      "Epoch 140/150\n",
      "768/768 [==============================] - 0s - loss: 0.4835 - acc: 0.7786     \n",
      "Epoch 141/150\n",
      "768/768 [==============================] - 0s - loss: 0.4848 - acc: 0.7813     \n",
      "Epoch 142/150\n",
      "768/768 [==============================] - 0s - loss: 0.4824 - acc: 0.7786     \n",
      "Epoch 143/150\n",
      "768/768 [==============================] - 0s - loss: 0.4809 - acc: 0.7839     \n",
      "Epoch 144/150\n",
      "768/768 [==============================] - 0s - loss: 0.4846 - acc: 0.7786     \n",
      "Epoch 145/150\n",
      "768/768 [==============================] - 0s - loss: 0.4827 - acc: 0.7760     \n",
      "Epoch 146/150\n",
      "768/768 [==============================] - 0s - loss: 0.4737 - acc: 0.7878     \n",
      "Epoch 147/150\n",
      "768/768 [==============================] - 0s - loss: 0.4796 - acc: 0.7786     \n",
      "Epoch 148/150\n",
      "768/768 [==============================] - 0s - loss: 0.4891 - acc: 0.7695     \n",
      "Epoch 149/150\n",
      "768/768 [==============================] - 0s - loss: 0.4710 - acc: 0.7839     \n",
      "Epoch 150/150\n",
      "768/768 [==============================] - 0s - loss: 0.4826 - acc: 0.7617     \n"
     ]
    },
    {
     "data": {
      "text/plain": [
       "<keras.callbacks.History at 0x10f2156d0>"
      ]
     },
     "execution_count": 17,
     "metadata": {},
     "output_type": "execute_result"
    }
   ],
   "source": [
    "model.fit(X,Y, nb_epoch=150, batch_size=50)"
   ]
  },
  {
   "cell_type": "markdown",
   "metadata": {},
   "source": [
    "Evaluate the model"
   ]
  },
  {
   "cell_type": "code",
   "execution_count": 18,
   "metadata": {
    "collapsed": false
   },
   "outputs": [
    {
     "name": "stdout",
     "output_type": "stream",
     "text": [
      "672/768 [=========================>....] - ETA: 0sacc: 77.34%\n"
     ]
    }
   ],
   "source": [
    "scores = model.evaluate(X, Y)\n",
    "print \"%s: %.2f%%\" % (model.metrics_names[1], scores[1]*100)"
   ]
  },
  {
   "cell_type": "markdown",
   "metadata": {},
   "source": [
    "Accuracy if just predicting most common diabetes predictor:"
   ]
  },
  {
   "cell_type": "code",
   "execution_count": 19,
   "metadata": {
    "collapsed": false
   },
   "outputs": [
    {
     "name": "stdout",
     "output_type": "stream",
     "text": [
      "0.651041666667\n"
     ]
    }
   ],
   "source": [
    "print (1 - sum(Y) / len(Y))"
   ]
  },
  {
   "cell_type": "code",
   "execution_count": null,
   "metadata": {
    "collapsed": true
   },
   "outputs": [],
   "source": []
  }
 ],
 "metadata": {
  "kernelspec": {
   "display_name": "Python 2",
   "language": "python",
   "name": "python2"
  },
  "language_info": {
   "codemirror_mode": {
    "name": "ipython",
    "version": 2
   },
   "file_extension": ".py",
   "mimetype": "text/x-python",
   "name": "python",
   "nbconvert_exporter": "python",
   "pygments_lexer": "ipython2",
   "version": "2.7.10"
  }
 },
 "nbformat": 4,
 "nbformat_minor": 0
}
