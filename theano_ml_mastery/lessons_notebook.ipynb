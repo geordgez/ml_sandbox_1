{
 "cells": [
  {
   "cell_type": "markdown",
   "metadata": {},
   "source": [
    "### Lesson 01"
   ]
  },
  {
   "cell_type": "code",
   "execution_count": 1,
   "metadata": {
    "collapsed": true
   },
   "outputs": [],
   "source": [
    "import theano\n",
    "from theano import tensor"
   ]
  },
  {
   "cell_type": "markdown",
   "metadata": {},
   "source": [
    "Declare two symbolic floating-point scalars"
   ]
  },
  {
   "cell_type": "code",
   "execution_count": 2,
   "metadata": {
    "collapsed": true
   },
   "outputs": [],
   "source": [
    "a = tensor.dscalar()\n",
    "b = tensor.dscalar()"
   ]
  },
  {
   "cell_type": "markdown",
   "metadata": {},
   "source": [
    "Create a simple expression"
   ]
  },
  {
   "cell_type": "code",
   "execution_count": 3,
   "metadata": {
    "collapsed": false
   },
   "outputs": [],
   "source": [
    "c = a + b"
   ]
  },
  {
   "cell_type": "markdown",
   "metadata": {},
   "source": [
    "Convert the expression into a callable object that takes (a,b) values as input and computes a value for c."
   ]
  },
  {
   "cell_type": "code",
   "execution_count": 4,
   "metadata": {
    "collapsed": true
   },
   "outputs": [],
   "source": [
    "f = theano.function([a,b],c)"
   ]
  },
  {
   "cell_type": "markdown",
   "metadata": {},
   "source": [
    "Bind 1.5 to $a$, 2.5 to $b$, and evaluate $c$"
   ]
  },
  {
   "cell_type": "code",
   "execution_count": 5,
   "metadata": {
    "collapsed": false
   },
   "outputs": [
    {
     "data": {
      "text/plain": [
       "array(4.0)"
      ]
     },
     "execution_count": 5,
     "metadata": {},
     "output_type": "execute_result"
    }
   ],
   "source": [
    "f(1.5,2.5)"
   ]
  },
  {
   "cell_type": "markdown",
   "metadata": {},
   "source": [
    "### Lesson 02"
   ]
  },
  {
   "cell_type": "code",
   "execution_count": 6,
   "metadata": {
    "collapsed": false
   },
   "outputs": [],
   "source": [
    "import tensorflow as tf"
   ]
  },
  {
   "cell_type": "markdown",
   "metadata": {},
   "source": [
    "Declare two sumbolic floating-point scalars"
   ]
  },
  {
   "cell_type": "code",
   "execution_count": 7,
   "metadata": {
    "collapsed": true
   },
   "outputs": [],
   "source": [
    "a = tf.placeholder(tf.float32)\n",
    "b = tf.placeholder(tf.float32)"
   ]
  },
  {
   "cell_type": "markdown",
   "metadata": {},
   "source": [
    "Create a simple symbolic expression using the add function"
   ]
  },
  {
   "cell_type": "code",
   "execution_count": 8,
   "metadata": {
    "collapsed": true
   },
   "outputs": [],
   "source": [
    "add = tf.add(a,b)"
   ]
  },
  {
   "cell_type": "markdown",
   "metadata": {},
   "source": [
    "Bind 1.5 to $a$, 2.5 to $b$, and evaluate $c$"
   ]
  },
  {
   "cell_type": "code",
   "execution_count": 9,
   "metadata": {
    "collapsed": true
   },
   "outputs": [],
   "source": [
    "sess = tf.Session()\n",
    "binding = {a: 1.5, b: 2.5}\n",
    "c = sess.run(add, feed_dict=binding)"
   ]
  },
  {
   "cell_type": "code",
   "execution_count": 10,
   "metadata": {
    "collapsed": false
   },
   "outputs": [
    {
     "name": "stdout",
     "output_type": "stream",
     "text": [
      "4.0\n"
     ]
    }
   ],
   "source": [
    "print c"
   ]
  },
  {
   "cell_type": "markdown",
   "metadata": {},
   "source": [
    "### Lesson 03"
   ]
  },
  {
   "cell_type": "markdown",
   "metadata": {},
   "source": [
    "Install keras"
   ]
  },
  {
   "cell_type": "markdown",
   "metadata": {},
   "source": [
    "### Lesson 04"
   ]
  },
  {
   "cell_type": "markdown",
   "metadata": {},
   "source": [
    "Perceptron terminology"
   ]
  },
  {
   "cell_type": "markdown",
   "metadata": {},
   "source": [
    "### Lesson 05"
   ]
  },
  {
   "cell_type": "markdown",
   "metadata": {},
   "source": [
    "Create first network with Keras"
   ]
  },
  {
   "cell_type": "code",
   "execution_count": 11,
   "metadata": {
    "collapsed": false
   },
   "outputs": [
    {
     "name": "stderr",
     "output_type": "stream",
     "text": [
      "Using TensorFlow backend.\n"
     ]
    }
   ],
   "source": [
    "from keras.models import Sequential\n",
    "from keras.layers import Dense\n",
    "import numpy"
   ]
  },
  {
   "cell_type": "markdown",
   "metadata": {},
   "source": [
    "Fix random seed for reproducibility"
   ]
  },
  {
   "cell_type": "code",
   "execution_count": 12,
   "metadata": {
    "collapsed": true
   },
   "outputs": [],
   "source": [
    "seed = 7\n",
    "numpy.random.seed(seed)"
   ]
  },
  {
   "cell_type": "markdown",
   "metadata": {},
   "source": [
    "Load pima indians dataset"
   ]
  },
  {
   "cell_type": "code",
   "execution_count": 33,
   "metadata": {
    "collapsed": false
   },
   "outputs": [],
   "source": [
    "dataset = numpy.loadtxt(\"../data/pima-indians-diabetes.csv\", delimiter=\",\")"
   ]
  },
  {
   "cell_type": "markdown",
   "metadata": {},
   "source": [
    "Split into input $X$ and output $Y$ variables"
   ]
  },
  {
   "cell_type": "code",
   "execution_count": 15,
   "metadata": {
    "collapsed": true
   },
   "outputs": [],
   "source": [
    "X = dataset[:,0:8]\n",
    "Y = dataset[:,8]"
   ]
  },
  {
   "cell_type": "markdown",
   "metadata": {},
   "source": [
    "Create model"
   ]
  },
  {
   "cell_type": "code",
   "execution_count": 20,
   "metadata": {
    "collapsed": true
   },
   "outputs": [],
   "source": [
    "model = Sequential()\n",
    "model.add(Dense(12, input_dim=8, init='uniform', activation='relu'))\n",
    "model.add(Dense(8, init='uniform', activation='relu'))\n",
    "model.add(Dense(8, init='uniform', activation='relu'))\n",
    "model.add(Dense(8, init='uniform', activation='relu'))\n",
    "model.add(Dense(1, init='uniform', activation='sigmoid'))"
   ]
  },
  {
   "cell_type": "markdown",
   "metadata": {},
   "source": [
    "Compile model"
   ]
  },
  {
   "cell_type": "code",
   "execution_count": 21,
   "metadata": {
    "collapsed": true
   },
   "outputs": [],
   "source": [
    "model.compile(loss='binary_crossentropy', optimizer='adam', metrics=['accuracy'])"
   ]
  },
  {
   "cell_type": "markdown",
   "metadata": {},
   "source": [
    "Fit the model"
   ]
  },
  {
   "cell_type": "code",
   "execution_count": 30,
   "metadata": {
    "collapsed": false
   },
   "outputs": [
    {
     "name": "stdout",
     "output_type": "stream",
     "text": [
      "Epoch 1/150\n",
      "768/768 [==============================] - 0s - loss: 0.4664 - acc: 0.7799     \n",
      "Epoch 2/150\n",
      "768/768 [==============================] - 0s - loss: 0.4626 - acc: 0.7891     \n",
      "Epoch 3/150\n",
      "768/768 [==============================] - 0s - loss: 0.4614 - acc: 0.7878     \n",
      "Epoch 4/150\n",
      "768/768 [==============================] - 0s - loss: 0.4630 - acc: 0.7852     \n",
      "Epoch 5/150\n",
      "768/768 [==============================] - 0s - loss: 0.4627 - acc: 0.7786     \n",
      "Epoch 6/150\n",
      "768/768 [==============================] - 0s - loss: 0.4619 - acc: 0.7865     \n",
      "Epoch 7/150\n",
      "768/768 [==============================] - 0s - loss: 0.4620 - acc: 0.7904     \n",
      "Epoch 8/150\n",
      "768/768 [==============================] - 0s - loss: 0.4597 - acc: 0.7865     \n",
      "Epoch 9/150\n",
      "768/768 [==============================] - 0s - loss: 0.4599 - acc: 0.7852     \n",
      "Epoch 10/150\n",
      "768/768 [==============================] - 0s - loss: 0.4571 - acc: 0.7878     \n",
      "Epoch 11/150\n",
      "768/768 [==============================] - 0s - loss: 0.4576 - acc: 0.7917     \n",
      "Epoch 12/150\n",
      "768/768 [==============================] - 0s - loss: 0.4599 - acc: 0.7812     \n",
      "Epoch 13/150\n",
      "768/768 [==============================] - 0s - loss: 0.4578 - acc: 0.7865     \n",
      "Epoch 14/150\n",
      "768/768 [==============================] - 0s - loss: 0.4576 - acc: 0.7878     \n",
      "Epoch 15/150\n",
      "768/768 [==============================] - 0s - loss: 0.4582 - acc: 0.7891     \n",
      "Epoch 16/150\n",
      "768/768 [==============================] - 0s - loss: 0.4573 - acc: 0.7852     \n",
      "Epoch 17/150\n",
      "768/768 [==============================] - 0s - loss: 0.4544 - acc: 0.7904     \n",
      "Epoch 18/150\n",
      "768/768 [==============================] - 0s - loss: 0.4552 - acc: 0.7878     \n",
      "Epoch 19/150\n",
      "768/768 [==============================] - 0s - loss: 0.4615 - acc: 0.7852     \n",
      "Epoch 20/150\n",
      "768/768 [==============================] - 0s - loss: 0.4601 - acc: 0.7826     \n",
      "Epoch 21/150\n",
      "768/768 [==============================] - 0s - loss: 0.4539 - acc: 0.7956     \n",
      "Epoch 22/150\n",
      "768/768 [==============================] - 0s - loss: 0.4532 - acc: 0.7904     \n",
      "Epoch 23/150\n",
      "768/768 [==============================] - 0s - loss: 0.4525 - acc: 0.7969     \n",
      "Epoch 24/150\n",
      "768/768 [==============================] - 0s - loss: 0.4548 - acc: 0.7852     \n",
      "Epoch 25/150\n",
      "768/768 [==============================] - 0s - loss: 0.4534 - acc: 0.7891     \n",
      "Epoch 26/150\n",
      "768/768 [==============================] - 0s - loss: 0.4514 - acc: 0.7917     \n",
      "Epoch 27/150\n",
      "768/768 [==============================] - 0s - loss: 0.4539 - acc: 0.7917     \n",
      "Epoch 28/150\n",
      "768/768 [==============================] - 0s - loss: 0.4518 - acc: 0.7956     \n",
      "Epoch 29/150\n",
      "768/768 [==============================] - 0s - loss: 0.4531 - acc: 0.7812     \n",
      "Epoch 30/150\n",
      "768/768 [==============================] - 0s - loss: 0.4535 - acc: 0.7865     \n",
      "Epoch 31/150\n",
      "768/768 [==============================] - 0s - loss: 0.4499 - acc: 0.7891     \n",
      "Epoch 32/150\n",
      "768/768 [==============================] - 0s - loss: 0.4481 - acc: 0.7956     \n",
      "Epoch 33/150\n",
      "768/768 [==============================] - 0s - loss: 0.4526 - acc: 0.7839     \n",
      "Epoch 34/150\n",
      "768/768 [==============================] - 0s - loss: 0.4492 - acc: 0.7878     \n",
      "Epoch 35/150\n",
      "768/768 [==============================] - 0s - loss: 0.4508 - acc: 0.7826     \n",
      "Epoch 36/150\n",
      "768/768 [==============================] - 0s - loss: 0.4519 - acc: 0.7930     \n",
      "Epoch 37/150\n",
      "768/768 [==============================] - 0s - loss: 0.4527 - acc: 0.7891     \n",
      "Epoch 38/150\n",
      "768/768 [==============================] - 0s - loss: 0.4534 - acc: 0.7891     \n",
      "Epoch 39/150\n",
      "768/768 [==============================] - 0s - loss: 0.4468 - acc: 0.7969     \n",
      "Epoch 40/150\n",
      "768/768 [==============================] - 0s - loss: 0.4499 - acc: 0.7904     \n",
      "Epoch 41/150\n",
      "768/768 [==============================] - 0s - loss: 0.4470 - acc: 0.7943     \n",
      "Epoch 42/150\n",
      "768/768 [==============================] - 0s - loss: 0.4497 - acc: 0.7865     \n",
      "Epoch 43/150\n",
      "768/768 [==============================] - 0s - loss: 0.4487 - acc: 0.7917     \n",
      "Epoch 44/150\n",
      "768/768 [==============================] - 0s - loss: 0.4504 - acc: 0.7917     \n",
      "Epoch 45/150\n",
      "768/768 [==============================] - 0s - loss: 0.4473 - acc: 0.7982     \n",
      "Epoch 46/150\n",
      "768/768 [==============================] - 0s - loss: 0.4465 - acc: 0.7878     \n",
      "Epoch 47/150\n",
      "768/768 [==============================] - 0s - loss: 0.4655 - acc: 0.7786     \n",
      "Epoch 48/150\n",
      "768/768 [==============================] - 0s - loss: 0.4641 - acc: 0.7813     \n",
      "Epoch 49/150\n",
      "768/768 [==============================] - 0s - loss: 0.4653 - acc: 0.7695     \n",
      "Epoch 50/150\n",
      "768/768 [==============================] - 0s - loss: 0.4459 - acc: 0.7956     \n",
      "Epoch 51/150\n",
      "768/768 [==============================] - 0s - loss: 0.4461 - acc: 0.7982     \n",
      "Epoch 52/150\n",
      "768/768 [==============================] - 0s - loss: 0.4441 - acc: 0.7943     \n",
      "Epoch 53/150\n",
      "768/768 [==============================] - 0s - loss: 0.4476 - acc: 0.7904     \n",
      "Epoch 54/150\n",
      "768/768 [==============================] - 0s - loss: 0.4447 - acc: 0.7904     \n",
      "Epoch 55/150\n",
      "768/768 [==============================] - 0s - loss: 0.4524 - acc: 0.7904     \n",
      "Epoch 56/150\n",
      "768/768 [==============================] - 0s - loss: 0.4488 - acc: 0.7943     \n",
      "Epoch 57/150\n",
      "768/768 [==============================] - 0s - loss: 0.4469 - acc: 0.7930     \n",
      "Epoch 58/150\n",
      "768/768 [==============================] - 0s - loss: 0.4431 - acc: 0.7982     \n",
      "Epoch 59/150\n",
      "768/768 [==============================] - 0s - loss: 0.4462 - acc: 0.7943     \n",
      "Epoch 60/150\n",
      "768/768 [==============================] - 0s - loss: 0.4439 - acc: 0.7943     \n",
      "Epoch 61/150\n",
      "768/768 [==============================] - 0s - loss: 0.4459 - acc: 0.7904     \n",
      "Epoch 62/150\n",
      "768/768 [==============================] - 0s - loss: 0.4464 - acc: 0.7878     \n",
      "Epoch 63/150\n",
      "768/768 [==============================] - 0s - loss: 0.4490 - acc: 0.7943     \n",
      "Epoch 64/150\n",
      "768/768 [==============================] - 0s - loss: 0.4441 - acc: 0.8034     \n",
      "Epoch 65/150\n",
      "768/768 [==============================] - 0s - loss: 0.4420 - acc: 0.7865     \n",
      "Epoch 66/150\n",
      "768/768 [==============================] - 0s - loss: 0.4468 - acc: 0.7969     \n",
      "Epoch 67/150\n",
      "768/768 [==============================] - 0s - loss: 0.4552 - acc: 0.7878     \n",
      "Epoch 68/150\n",
      "768/768 [==============================] - 0s - loss: 0.4448 - acc: 0.7956     \n",
      "Epoch 69/150\n",
      "768/768 [==============================] - 0s - loss: 0.4424 - acc: 0.7982     \n",
      "Epoch 70/150\n",
      "768/768 [==============================] - 0s - loss: 0.4429 - acc: 0.7982     \n",
      "Epoch 71/150\n",
      "768/768 [==============================] - 0s - loss: 0.4397 - acc: 0.7982     \n",
      "Epoch 72/150\n",
      "768/768 [==============================] - 0s - loss: 0.4387 - acc: 0.7956     \n",
      "Epoch 73/150\n",
      "768/768 [==============================] - 0s - loss: 0.4411 - acc: 0.7982     \n",
      "Epoch 74/150\n",
      "768/768 [==============================] - 0s - loss: 0.4437 - acc: 0.7865     \n",
      "Epoch 75/150\n",
      "768/768 [==============================] - 0s - loss: 0.4428 - acc: 0.7943     \n",
      "Epoch 76/150\n",
      "768/768 [==============================] - 0s - loss: 0.4372 - acc: 0.7904     \n",
      "Epoch 77/150\n",
      "768/768 [==============================] - 0s - loss: 0.4369 - acc: 0.7943     \n",
      "Epoch 78/150\n",
      "768/768 [==============================] - 0s - loss: 0.4431 - acc: 0.7969     \n",
      "Epoch 79/150\n",
      "768/768 [==============================] - 0s - loss: 0.4480 - acc: 0.7904     \n",
      "Epoch 80/150\n",
      "768/768 [==============================] - 0s - loss: 0.4408 - acc: 0.7813     \n",
      "Epoch 81/150\n",
      "768/768 [==============================] - 0s - loss: 0.4398 - acc: 0.7995     \n",
      "Epoch 82/150\n",
      "768/768 [==============================] - 0s - loss: 0.4428 - acc: 0.7930     \n",
      "Epoch 83/150\n",
      "768/768 [==============================] - 0s - loss: 0.4510 - acc: 0.7930     \n",
      "Epoch 84/150\n",
      "768/768 [==============================] - 0s - loss: 0.4481 - acc: 0.8034     \n",
      "Epoch 85/150\n",
      "768/768 [==============================] - 0s - loss: 0.4510 - acc: 0.7852     \n",
      "Epoch 86/150\n",
      "768/768 [==============================] - 0s - loss: 0.4596 - acc: 0.7956     \n",
      "Epoch 87/150\n",
      "768/768 [==============================] - 0s - loss: 0.4351 - acc: 0.7943     \n",
      "Epoch 88/150\n",
      "768/768 [==============================] - 0s - loss: 0.4373 - acc: 0.8008     \n",
      "Epoch 89/150\n",
      "768/768 [==============================] - 0s - loss: 0.4457 - acc: 0.7917     \n",
      "Epoch 90/150\n",
      "768/768 [==============================] - 0s - loss: 0.4422 - acc: 0.7799     \n",
      "Epoch 91/150\n",
      "768/768 [==============================] - 0s - loss: 0.4396 - acc: 0.7956     \n",
      "Epoch 92/150\n",
      "768/768 [==============================] - 0s - loss: 0.4368 - acc: 0.7917     \n",
      "Epoch 93/150\n",
      "768/768 [==============================] - 0s - loss: 0.4318 - acc: 0.8047     \n",
      "Epoch 94/150\n",
      "768/768 [==============================] - 0s - loss: 0.4460 - acc: 0.7839     \n",
      "Epoch 95/150\n",
      "768/768 [==============================] - 0s - loss: 0.4325 - acc: 0.7982     \n",
      "Epoch 96/150\n",
      "768/768 [==============================] - 0s - loss: 0.4319 - acc: 0.8008     \n",
      "Epoch 97/150\n",
      "768/768 [==============================] - 0s - loss: 0.4340 - acc: 0.7995     \n",
      "Epoch 98/150\n",
      "768/768 [==============================] - 0s - loss: 0.4346 - acc: 0.7982     \n",
      "Epoch 99/150\n",
      "768/768 [==============================] - 0s - loss: 0.4326 - acc: 0.7995     \n",
      "Epoch 100/150\n",
      "768/768 [==============================] - 0s - loss: 0.4369 - acc: 0.7969     \n",
      "Epoch 101/150\n",
      "768/768 [==============================] - 0s - loss: 0.4340 - acc: 0.8034     \n",
      "Epoch 102/150\n",
      "768/768 [==============================] - 0s - loss: 0.4542 - acc: 0.7865     \n",
      "Epoch 103/150\n",
      "768/768 [==============================] - 0s - loss: 0.4345 - acc: 0.7982     \n",
      "Epoch 104/150\n",
      "768/768 [==============================] - 0s - loss: 0.4321 - acc: 0.8047     \n",
      "Epoch 105/150\n",
      "768/768 [==============================] - 0s - loss: 0.4385 - acc: 0.7839     \n",
      "Epoch 106/150\n",
      "768/768 [==============================] - 0s - loss: 0.4519 - acc: 0.7865     \n",
      "Epoch 107/150\n",
      "768/768 [==============================] - 0s - loss: 0.4420 - acc: 0.8047     \n",
      "Epoch 108/150\n",
      "768/768 [==============================] - 0s - loss: 0.4364 - acc: 0.7930     \n",
      "Epoch 109/150\n",
      "768/768 [==============================] - 0s - loss: 0.4328 - acc: 0.8034     \n",
      "Epoch 110/150\n",
      "768/768 [==============================] - 0s - loss: 0.4328 - acc: 0.8021     \n",
      "Epoch 111/150\n",
      "768/768 [==============================] - 0s - loss: 0.4337 - acc: 0.7995     \n",
      "Epoch 112/150\n",
      "768/768 [==============================] - 0s - loss: 0.4321 - acc: 0.8008     \n",
      "Epoch 113/150\n",
      "768/768 [==============================] - 0s - loss: 0.4281 - acc: 0.7982     \n",
      "Epoch 114/150\n",
      "768/768 [==============================] - 0s - loss: 0.4334 - acc: 0.7917     \n",
      "Epoch 115/150\n",
      "768/768 [==============================] - 0s - loss: 0.4392 - acc: 0.7930     \n",
      "Epoch 116/150\n",
      "768/768 [==============================] - 0s - loss: 0.4516 - acc: 0.7917     \n",
      "Epoch 117/150\n",
      "768/768 [==============================] - 0s - loss: 0.4281 - acc: 0.7982     \n",
      "Epoch 118/150\n",
      "768/768 [==============================] - 0s - loss: 0.4265 - acc: 0.8008     \n",
      "Epoch 119/150\n",
      "768/768 [==============================] - 0s - loss: 0.4268 - acc: 0.7995     \n",
      "Epoch 120/150\n",
      "768/768 [==============================] - 0s - loss: 0.4273 - acc: 0.7930     \n",
      "Epoch 121/150\n",
      "768/768 [==============================] - 0s - loss: 0.4344 - acc: 0.7969     \n",
      "Epoch 122/150\n",
      "768/768 [==============================] - 0s - loss: 0.4319 - acc: 0.7982     \n",
      "Epoch 123/150\n",
      "768/768 [==============================] - 0s - loss: 0.4354 - acc: 0.7956     \n",
      "Epoch 124/150\n",
      "768/768 [==============================] - 0s - loss: 0.4249 - acc: 0.8047     \n",
      "Epoch 125/150\n",
      "768/768 [==============================] - 0s - loss: 0.4243 - acc: 0.8034     \n",
      "Epoch 126/150\n",
      "768/768 [==============================] - 0s - loss: 0.4216 - acc: 0.8138     \n",
      "Epoch 127/150\n",
      "768/768 [==============================] - 0s - loss: 0.4242 - acc: 0.8008     \n",
      "Epoch 128/150\n",
      "768/768 [==============================] - 0s - loss: 0.4239 - acc: 0.8086     \n",
      "Epoch 129/150\n",
      "768/768 [==============================] - 0s - loss: 0.4228 - acc: 0.8112     \n",
      "Epoch 130/150\n",
      "768/768 [==============================] - 0s - loss: 0.4364 - acc: 0.7982     \n",
      "Epoch 131/150\n",
      "768/768 [==============================] - 0s - loss: 0.4250 - acc: 0.8047     \n",
      "Epoch 132/150\n",
      "768/768 [==============================] - 0s - loss: 0.4297 - acc: 0.8047     \n",
      "Epoch 133/150\n",
      "768/768 [==============================] - 0s - loss: 0.4234 - acc: 0.8047     \n",
      "Epoch 134/150\n",
      "768/768 [==============================] - 0s - loss: 0.4260 - acc: 0.8034     \n",
      "Epoch 135/150\n",
      "768/768 [==============================] - 0s - loss: 0.4341 - acc: 0.8060     \n",
      "Epoch 136/150\n",
      "768/768 [==============================] - 0s - loss: 0.4202 - acc: 0.8060     \n",
      "Epoch 137/150\n",
      "768/768 [==============================] - 0s - loss: 0.4286 - acc: 0.8008     \n",
      "Epoch 138/150\n",
      "768/768 [==============================] - 0s - loss: 0.4267 - acc: 0.8047     \n",
      "Epoch 139/150\n",
      "768/768 [==============================] - 0s - loss: 0.4352 - acc: 0.7995     \n",
      "Epoch 140/150\n",
      "768/768 [==============================] - 0s - loss: 0.4357 - acc: 0.7917     \n",
      "Epoch 141/150\n",
      "768/768 [==============================] - 0s - loss: 0.4238 - acc: 0.8021     \n",
      "Epoch 142/150\n",
      "768/768 [==============================] - 0s - loss: 0.4219 - acc: 0.8008     \n",
      "Epoch 143/150\n",
      "768/768 [==============================] - 0s - loss: 0.4207 - acc: 0.8034     \n",
      "Epoch 144/150\n",
      "768/768 [==============================] - 0s - loss: 0.4243 - acc: 0.8034     \n",
      "Epoch 145/150\n",
      "768/768 [==============================] - 0s - loss: 0.4396 - acc: 0.7956     \n",
      "Epoch 146/150\n",
      "768/768 [==============================] - 0s - loss: 0.4254 - acc: 0.7943     \n",
      "Epoch 147/150\n",
      "768/768 [==============================] - 0s - loss: 0.4314 - acc: 0.7930     \n",
      "Epoch 148/150\n",
      "768/768 [==============================] - 0s - loss: 0.4179 - acc: 0.8112     \n",
      "Epoch 149/150\n",
      "768/768 [==============================] - 0s - loss: 0.4315 - acc: 0.7943     \n",
      "Epoch 150/150\n",
      "768/768 [==============================] - 0s - loss: 0.4191 - acc: 0.8060     \n"
     ]
    },
    {
     "data": {
      "text/plain": [
       "<keras.callbacks.History at 0x1067cb090>"
      ]
     },
     "execution_count": 30,
     "metadata": {},
     "output_type": "execute_result"
    }
   ],
   "source": [
    "model.fit(X,Y, nb_epoch=150, batch_size=50)"
   ]
  },
  {
   "cell_type": "markdown",
   "metadata": {},
   "source": [
    "Evaluate the model"
   ]
  },
  {
   "cell_type": "code",
   "execution_count": 31,
   "metadata": {
    "collapsed": false
   },
   "outputs": [
    {
     "name": "stdout",
     "output_type": "stream",
     "text": [
      "608/768 [======================>.......] - ETA: 0sacc: 80.34%\n"
     ]
    }
   ],
   "source": [
    "scores = model.evaluate(X, Y)\n",
    "print \"%s: %.2f%%\" % (model.metrics_names[1], scores[1]*100)"
   ]
  },
  {
   "cell_type": "markdown",
   "metadata": {},
   "source": [
    "Accuracy if just predicting most common diabetes predictor:"
   ]
  },
  {
   "cell_type": "code",
   "execution_count": 32,
   "metadata": {
    "collapsed": false
   },
   "outputs": [
    {
     "name": "stdout",
     "output_type": "stream",
     "text": [
      "0.651041666667\n"
     ]
    }
   ],
   "source": [
    "print (1 - sum(Y) / len(Y))"
   ]
  },
  {
   "cell_type": "code",
   "execution_count": null,
   "metadata": {
    "collapsed": true
   },
   "outputs": [],
   "source": []
  }
 ],
 "metadata": {
  "kernelspec": {
   "display_name": "Python 2",
   "language": "python",
   "name": "python2"
  },
  "language_info": {
   "codemirror_mode": {
    "name": "ipython",
    "version": 2
   },
   "file_extension": ".py",
   "mimetype": "text/x-python",
   "name": "python",
   "nbconvert_exporter": "python",
   "pygments_lexer": "ipython2",
   "version": "2.7.10"
  }
 },
 "nbformat": 4,
 "nbformat_minor": 0
}
